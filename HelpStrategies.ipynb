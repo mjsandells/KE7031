{
 "cells": [
  {
   "cell_type": "markdown",
   "metadata": {},
   "source": [
    "## This notebook contains strategies that might be helpful to identify where you have a problem in your modelling"
   ]
  },
  {
   "cell_type": "code",
   "execution_count": null,
   "metadata": {},
   "outputs": [],
   "source": [
    "# First, import some packages\n",
    "import numpy as np\n",
    "%matplotlib inline\n",
    "import matplotlib.pyplot as plt\n",
    "import pandas as pd"
   ]
  },
  {
   "cell_type": "markdown",
   "metadata": {},
   "source": [
    "### Set up a modelling problem\n",
    "\n",
    "In case you can't yet import SMRT, we'll use a simpler example: application of the Stefan-Boltzmann equation for thermal radiation (LW):\n",
    "\n",
    "$LW = \\epsilon \\sigma T^4$\n",
    "\n",
    "We're aiming to simulate some thermal emission, which we can plot below. These data are from Reynolds Creek Experimental Watershed, Idaho, US in 2000. This is the thermal emission from the snow surface (with some bad data!)."
   ]
  },
  {
   "cell_type": "code",
   "execution_count": null,
   "metadata": {},
   "outputs": [],
   "source": [
    "lw_data = pd.read_csv('LW_RCEW_KE7031.csv')\n",
    "plt.close()\n",
    "plt.plot(lw_data['Time (days)'], lw_data['pir2 (upwelling)'], 'b-')\n",
    "plt.xlabel('Time (days)')\n",
    "plt.ylabel('LW W/m2')"
   ]
  },
  {
   "cell_type": "markdown",
   "metadata": {},
   "source": [
    "Assume we have only two measurements of the snow surface temperature, taken at 5pm on day 95 (temperature is -5$^o$C) and 5am (temperature is -8$^o$C). These are the times at which we expect the temperatures to be the most extreme.\n",
    "\n",
    "We know nothing else about the temperature. How well can we model these data?\n",
    "\n",
    "\n",
    "### Modelling strategy\n",
    "\n",
    "1. Write a function to convert units\n",
    "2. Write a function to model a sinusoidal variation in temperature\n",
    "3. Estimate longwave radiation through the Stefan-Boltzmann equation (another function)\n",
    "4. Compare with observations\n",
    "\n",
    "For the second step, we want to make the sinusoid with a period of 24 hours with the minimum at 5am and maximum at 5pm e.g."
   ]
  },
  {
   "cell_type": "code",
   "execution_count": null,
   "metadata": {},
   "outputs": [],
   "source": [
    "time = np.arange(0,24)\n",
    "\n",
    "plt.close()\n",
    "ax1 = plt.subplot(211)\n",
    "ax2 = plt.subplot(212)\n",
    "ax1.plot(np.cos(2.*np.pi * time/24), label='basic sinusoid')\n",
    "ax1.plot(np.cos(2*np.pi*((time+7)/24)), label='shifted by 7 hours')\n",
    "ax2.plot(-6.5 + 1.5 * np.cos(2*np.pi*((time+7)/24)), label='between max and min')\n",
    "ax1.legend()\n",
    "ax2.legend()"
   ]
  },
  {
   "cell_type": "markdown",
   "metadata": {},
   "source": [
    "Now we have a general change in temperature over a diurnal cycle. Next, we define the functions\n",
    "\n",
    "Note each function has at least one error. It will be a hot mess."
   ]
  },
  {
   "cell_type": "code",
   "execution_count": null,
   "metadata": {},
   "outputs": [],
   "source": [
    "def convert_temperature_to_kelvin(temperature):\n",
    "    # Convert to K\n",
    "    return (temperature)\n",
    "\n",
    "def make_diurnal_cycle(t_min, t_max, times):\n",
    "    # Calculate amplitude\n",
    "    amplitude = t_min - t_max\n",
    "    # We'll take the times directly from the data. We're interested in the decimal part of the day\n",
    "    # Here is a number of solutions to do this, we'll choose one of them:\n",
    "    # https://stackoverflow.com/questions/6681743/splitting-a-number-into-the-integer-and-decimal-parts\n",
    "    # (NB I searched for 'numpy decimal part of number')\n",
    "    decimal_part = times % 1\n",
    "    time_shift = 7/24 # Still need to shift by 7 hours\n",
    "    return (t_min + amplitude/2 + amplitude/2 * np.cos(2*np.pi*(decimal_part - time_shift)))\n",
    "\n",
    "def stefan_boltzmann(temperature):\n",
    "    epsilon = 0.98\n",
    "    sigma = 5.67e-8 # W m^2 K^-4\n",
    "    return epsilon * sigma * temperature*4"
   ]
  },
  {
   "cell_type": "markdown",
   "metadata": {},
   "source": [
    "### Now we have all our functions written it's time to simulate longwave radiation!"
   ]
  },
  {
   "cell_type": "code",
   "execution_count": null,
   "metadata": {},
   "outputs": [],
   "source": [
    "# Convert diurnal cycle temperatures to K (here, passed one function as the argument to another)\n",
    "varying_temp = convert_temperature_to_kelvin(make_diurnal_cycle(-8, -5, lw_data['Time (days)']))\n",
    "simulated_lw = stefan_boltzmann(varying_temp)"
   ]
  },
  {
   "cell_type": "markdown",
   "metadata": {},
   "source": [
    "#### Great. Simulation done, let's do a scatterplot of simulations vs observations."
   ]
  },
  {
   "cell_type": "code",
   "execution_count": null,
   "metadata": {},
   "outputs": [],
   "source": [
    "plt.close()\n",
    "plt.scatter(lw_data['pir2 (upwelling)'][:-3], simulated_lw[:-3], label='data') # [:-3] excludes the last 3 points: bad observations\n",
    "plt.plot([250,320], [250, 320], 'k--', label='1:1 line', alpha=0.5) # 1-1 line\n",
    "plt.xlabel('Measured LW')\n",
    "plt.ylabel('Simulated LW')\n",
    "plt.legend()"
   ]
  },
  {
   "cell_type": "markdown",
   "metadata": {},
   "source": [
    "## Oh dear, there is a massive problem\n",
    "\n",
    "**Question is, what to do about it?**\n",
    "\n",
    "#### Example 1. Use print statements.\n",
    "This relies on you knowing what to expect at each step but can be useful for simply identifying where the error is occurring. For example, if a variable like temperature is changing somewhere between functions and you *don't* expect it to, continually printing out that variable with some identifying information might show you where the change happens e.g."
   ]
  },
  {
   "cell_type": "code",
   "execution_count": null,
   "metadata": {},
   "outputs": [],
   "source": [
    "t = 10\n",
    "print ('t is ', t, 'here')\n",
    "x = t * 5\n",
    "print ('t is ', t, 'here 2')\n",
    "y = t**2\n",
    "print ('t is ', t, 'here 3')\n",
    "t+=1\n",
    "print ('t is ', t, 'here 4')\n",
    "z = t/2\n",
    "print ('t is ', t, 'here 5')"
   ]
  },
  {
   "cell_type": "markdown",
   "metadata": {},
   "source": [
    "You can see that t changes somewhere between 'here 3' and 'here 4'.\n",
    "\n",
    "This can, however, get quite messy quite quickly and once you've solved the bug you'll have a load of print statements to find and delete. Here we would have to put lots of print statements in each of the functions. Not going to do that today."
   ]
  },
  {
   "cell_type": "markdown",
   "metadata": {},
   "source": [
    "#### Example 2. Use a debugger.\n",
    "\n",
    "This is a lot more sophisticated than print statements. It allows you to step through your code and monitor changes in the variables. It's also useful for seeing where you code falls over (e.g. divide by zero somewhere...though in this case your error message should tell you which line!). Not going to go down this route here because it requires yet more setting up of your system, but do have a look at this video here: https://www.youtube.com/watch?v=CdZN_vVfHqw to see the benefits.\n",
    "\n",
    "and if you want to give it a try, follow these instructions to set it up (I have not. Yet.): https://blog.jupyter.org/a-visual-debugger-for-jupyter-914e61716559\n",
    "\n",
    "#### Example 3. Use tests / assert statements\n",
    "\n",
    "One way to check your code is working properly is to use tests. For example, it should be easy to spot there is a problem with the first function (temperature conversion) with:"
   ]
  },
  {
   "cell_type": "code",
   "execution_count": null,
   "metadata": {},
   "outputs": [],
   "source": [
    "assert(convert_temperature_to_kelvin(0)==273.15)"
   ]
  },
  {
   "cell_type": "markdown",
   "metadata": {},
   "source": [
    "We would expect the output of this function, given 0$^o$C input to be 273.15K. This assertion returns an error because it is not outputting this. Go back and change the convert_temperature_to_kelvin function to output the correct temperature in Kelvin. *What happens when you rerun the test above?* \n",
    "\n",
    "You can use this as part of a suite of tests (see any of the smrt files that start with test_ ). It's a good idea to write tests every time you discover a bug to make sure it doesn't crop up again under different circumstances, and also to just write tests as you go to anticipate bugs and stop them happening in the first place.\n",
    "\n",
    "#### Example 4. Look at a subset of data\n",
    "\n",
    "Sometimes the volume of data you're looking at is too large. It can be good to cut it down. There are two things wrong with the *make_diurnal_cycle* function. One can be seen in the graph below (*hint: what do you know about the temperatures?*). Once you fix that, the graph below may look fine from a distance but isn't. Uncomment the last line to zoom in to see what else is wrong with this function. *Can you fix it?*"
   ]
  },
  {
   "cell_type": "code",
   "execution_count": null,
   "metadata": {},
   "outputs": [],
   "source": [
    "plt.close()\n",
    "plt.plot(lw_data['Time (days)'], make_diurnal_cycle(-8, -5, lw_data['Time (days)']))\n",
    "plt.xlabel('time (days)')\n",
    "plt.ylabel('Temp in deg C')\n",
    "#plt.xlim(96, 98)"
   ]
  },
  {
   "cell_type": "markdown",
   "metadata": {},
   "source": [
    "Note there is something wrong with the stefan_boltzmann function too. *What strategy would you use to fix it*?\n",
    "\n",
    "### Finally: Can you improve the model?\n",
    "\n",
    "If you can get the simulations vaguely near the 1:1 line maybe you've found all the bugs. Doesn't mean you have a great model though. Could you improve on these simulations?"
   ]
  },
  {
   "cell_type": "code",
   "execution_count": null,
   "metadata": {},
   "outputs": [],
   "source": []
  }
 ],
 "metadata": {
  "kernelspec": {
   "display_name": "Python 3",
   "language": "python",
   "name": "python3"
  },
  "language_info": {
   "codemirror_mode": {
    "name": "ipython",
    "version": 3
   },
   "file_extension": ".py",
   "mimetype": "text/x-python",
   "name": "python",
   "nbconvert_exporter": "python",
   "pygments_lexer": "ipython3",
   "version": "3.8.5"
  }
 },
 "nbformat": 4,
 "nbformat_minor": 4
}
