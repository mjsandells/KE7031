{
 "cells": [
  {
   "cell_type": "markdown",
   "metadata": {},
   "source": [
    "## Provides an introduction to the pandas module\n",
    "\n",
    "See also: pandas documentation https://pandas.pydata.org/pandas-docs/stable/getting_started/index.html\n",
    "\n",
    "Pandas is a fantastic module useful for manipulation of data. Think of it as the python equivalent of a spreadsheet. In fact, I usually use it to import .csv files. We'll take a .csv file of real snowpit data (I'll tell you where from in the next lecture) and use it to get it in a form where we're nearly ready to output parameters for SMRT"
   ]
  },
  {
   "cell_type": "code",
   "execution_count": 1,
   "metadata": {},
   "outputs": [],
   "source": [
    "import pandas as pd"
   ]
  },
  {
   "cell_type": "code",
   "execution_count": 2,
   "metadata": {},
   "outputs": [],
   "source": [
    "# Import some snowpit data\n",
    "snowpit = pd.read_csv('snowpit.csv')"
   ]
  },
  {
   "cell_type": "code",
   "execution_count": 3,
   "metadata": {},
   "outputs": [
    {
     "data": {
      "text/plain": [
       "pandas.core.frame.DataFrame"
      ]
     },
     "execution_count": 3,
     "metadata": {},
     "output_type": "execute_result"
    }
   ],
   "source": [
    "# Have a look at the output of this. This is known as a Pandas DataFrame\n",
    "type (snowpit)"
   ]
  },
  {
   "cell_type": "code",
   "execution_count": 4,
   "metadata": {},
   "outputs": [
    {
     "data": {
      "text/html": [
       "<div>\n",
       "<style scoped>\n",
       "    .dataframe tbody tr th:only-of-type {\n",
       "        vertical-align: middle;\n",
       "    }\n",
       "\n",
       "    .dataframe tbody tr th {\n",
       "        vertical-align: top;\n",
       "    }\n",
       "\n",
       "    .dataframe thead th {\n",
       "        text-align: right;\n",
       "    }\n",
       "</style>\n",
       "<table border=\"1\" class=\"dataframe\">\n",
       "  <thead>\n",
       "    <tr style=\"text-align: right;\">\n",
       "      <th></th>\n",
       "      <th>density top\\n(cm)</th>\n",
       "      <th>density bottom\\n(cm)</th>\n",
       "      <th>density A kg/m3</th>\n",
       "      <th>density B kg/m3</th>\n",
       "      <th>Height in (cm)</th>\n",
       "      <th>Temp in C</th>\n",
       "      <th>grain top\\n(cm)</th>\n",
       "      <th>grain bottom\\n(cm)</th>\n",
       "      <th>Grain size</th>\n",
       "      <th>Grain type</th>\n",
       "      <th>Hardness</th>\n",
       "      <th>Notes</th>\n",
       "    </tr>\n",
       "  </thead>\n",
       "  <tbody>\n",
       "    <tr>\n",
       "      <th>0</th>\n",
       "      <td>100.0</td>\n",
       "      <td>90.0</td>\n",
       "      <td>211.0</td>\n",
       "      <td>187.0</td>\n",
       "      <td>100.0</td>\n",
       "      <td>-8.7</td>\n",
       "      <td>100</td>\n",
       "      <td>96</td>\n",
       "      <td>1-2\\nmm</td>\n",
       "      <td>PP</td>\n",
       "      <td>F</td>\n",
       "      <td>NaN</td>\n",
       "    </tr>\n",
       "    <tr>\n",
       "      <th>1</th>\n",
       "      <td>90.0</td>\n",
       "      <td>80.0</td>\n",
       "      <td>238.0</td>\n",
       "      <td>248.0</td>\n",
       "      <td>90.0</td>\n",
       "      <td>-9.8</td>\n",
       "      <td>96</td>\n",
       "      <td>94</td>\n",
       "      <td>&lt; 1\\nmm</td>\n",
       "      <td>RG</td>\n",
       "      <td>1F</td>\n",
       "      <td>Wind crust</td>\n",
       "    </tr>\n",
       "    <tr>\n",
       "      <th>2</th>\n",
       "      <td>80.0</td>\n",
       "      <td>70.0</td>\n",
       "      <td>305.0</td>\n",
       "      <td>295.0</td>\n",
       "      <td>80.0</td>\n",
       "      <td>-7.8</td>\n",
       "      <td>94</td>\n",
       "      <td>90</td>\n",
       "      <td>&lt; 1\\nmm</td>\n",
       "      <td>RG</td>\n",
       "      <td>K</td>\n",
       "      <td>Crust</td>\n",
       "    </tr>\n",
       "    <tr>\n",
       "      <th>3</th>\n",
       "      <td>70.0</td>\n",
       "      <td>60.0</td>\n",
       "      <td>299.0</td>\n",
       "      <td>297.0</td>\n",
       "      <td>70.0</td>\n",
       "      <td>-5.8</td>\n",
       "      <td>90</td>\n",
       "      <td>73</td>\n",
       "      <td>&lt; 1\\nmm</td>\n",
       "      <td>RG</td>\n",
       "      <td>1F</td>\n",
       "      <td>NaN</td>\n",
       "    </tr>\n",
       "    <tr>\n",
       "      <th>4</th>\n",
       "      <td>60.0</td>\n",
       "      <td>50.0</td>\n",
       "      <td>301.0</td>\n",
       "      <td>312.0</td>\n",
       "      <td>60.0</td>\n",
       "      <td>-4.3</td>\n",
       "      <td>73</td>\n",
       "      <td>65</td>\n",
       "      <td>&lt; 1\\nmm</td>\n",
       "      <td>RG</td>\n",
       "      <td>K</td>\n",
       "      <td>way less than 1mm</td>\n",
       "    </tr>\n",
       "    <tr>\n",
       "      <th>5</th>\n",
       "      <td>50.0</td>\n",
       "      <td>40.0</td>\n",
       "      <td>290.0</td>\n",
       "      <td>272.0</td>\n",
       "      <td>50.0</td>\n",
       "      <td>-3.1</td>\n",
       "      <td>65</td>\n",
       "      <td>62</td>\n",
       "      <td>&lt; 1\\nmm</td>\n",
       "      <td>RG</td>\n",
       "      <td>1F</td>\n",
       "      <td>some faceting</td>\n",
       "    </tr>\n",
       "    <tr>\n",
       "      <th>6</th>\n",
       "      <td>40.0</td>\n",
       "      <td>30.0</td>\n",
       "      <td>333.0</td>\n",
       "      <td>304.0</td>\n",
       "      <td>40.0</td>\n",
       "      <td>-2.0</td>\n",
       "      <td>62</td>\n",
       "      <td>61</td>\n",
       "      <td>2-4 mm</td>\n",
       "      <td>PPgp</td>\n",
       "      <td>1F</td>\n",
       "      <td>graupel layer</td>\n",
       "    </tr>\n",
       "    <tr>\n",
       "      <th>7</th>\n",
       "      <td>30.0</td>\n",
       "      <td>20.0</td>\n",
       "      <td>335.0</td>\n",
       "      <td>324.0</td>\n",
       "      <td>30.0</td>\n",
       "      <td>-1.6</td>\n",
       "      <td>61</td>\n",
       "      <td>47</td>\n",
       "      <td>1-2\\nmm</td>\n",
       "      <td>RG</td>\n",
       "      <td>1F</td>\n",
       "      <td>some faceting</td>\n",
       "    </tr>\n",
       "    <tr>\n",
       "      <th>8</th>\n",
       "      <td>20.0</td>\n",
       "      <td>10.0</td>\n",
       "      <td>302.0</td>\n",
       "      <td>285.0</td>\n",
       "      <td>20.0</td>\n",
       "      <td>-1.0</td>\n",
       "      <td>47</td>\n",
       "      <td>30</td>\n",
       "      <td>2-4 mm</td>\n",
       "      <td>FC</td>\n",
       "      <td>4F</td>\n",
       "      <td>some rounding</td>\n",
       "    </tr>\n",
       "    <tr>\n",
       "      <th>9</th>\n",
       "      <td>10.0</td>\n",
       "      <td>0.0</td>\n",
       "      <td>NaN</td>\n",
       "      <td>NaN</td>\n",
       "      <td>10.0</td>\n",
       "      <td>-0.5</td>\n",
       "      <td>30</td>\n",
       "      <td>20</td>\n",
       "      <td>1-2\\nmm</td>\n",
       "      <td>FC</td>\n",
       "      <td>1F</td>\n",
       "      <td>some rounding</td>\n",
       "    </tr>\n",
       "    <tr>\n",
       "      <th>10</th>\n",
       "      <td>NaN</td>\n",
       "      <td>NaN</td>\n",
       "      <td>NaN</td>\n",
       "      <td>NaN</td>\n",
       "      <td>0.0</td>\n",
       "      <td>-0.2</td>\n",
       "      <td>20</td>\n",
       "      <td>9</td>\n",
       "      <td>1-2\\nmm</td>\n",
       "      <td>FC</td>\n",
       "      <td>1F</td>\n",
       "      <td>some rounding</td>\n",
       "    </tr>\n",
       "    <tr>\n",
       "      <th>11</th>\n",
       "      <td>NaN</td>\n",
       "      <td>NaN</td>\n",
       "      <td>NaN</td>\n",
       "      <td>NaN</td>\n",
       "      <td>NaN</td>\n",
       "      <td>NaN</td>\n",
       "      <td>9</td>\n",
       "      <td>0</td>\n",
       "      <td>1-2\\nmm</td>\n",
       "      <td>FC</td>\n",
       "      <td>K</td>\n",
       "      <td>some rounding</td>\n",
       "    </tr>\n",
       "  </tbody>\n",
       "</table>\n",
       "</div>"
      ],
      "text/plain": [
       "    density top\\n(cm)  density bottom\\n(cm)  density A kg/m3  density B kg/m3  \\\n",
       "0               100.0                  90.0            211.0            187.0   \n",
       "1                90.0                  80.0            238.0            248.0   \n",
       "2                80.0                  70.0            305.0            295.0   \n",
       "3                70.0                  60.0            299.0            297.0   \n",
       "4                60.0                  50.0            301.0            312.0   \n",
       "5                50.0                  40.0            290.0            272.0   \n",
       "6                40.0                  30.0            333.0            304.0   \n",
       "7                30.0                  20.0            335.0            324.0   \n",
       "8                20.0                  10.0            302.0            285.0   \n",
       "9                10.0                   0.0              NaN              NaN   \n",
       "10                NaN                   NaN              NaN              NaN   \n",
       "11                NaN                   NaN              NaN              NaN   \n",
       "\n",
       "    Height in (cm)  Temp in C  grain top\\n(cm)  grain bottom\\n(cm) Grain size  \\\n",
       "0            100.0       -8.7              100                  96    1-2\\nmm   \n",
       "1             90.0       -9.8               96                  94    < 1\\nmm   \n",
       "2             80.0       -7.8               94                  90    < 1\\nmm   \n",
       "3             70.0       -5.8               90                  73    < 1\\nmm   \n",
       "4             60.0       -4.3               73                  65    < 1\\nmm   \n",
       "5             50.0       -3.1               65                  62    < 1\\nmm   \n",
       "6             40.0       -2.0               62                  61     2-4 mm   \n",
       "7             30.0       -1.6               61                  47    1-2\\nmm   \n",
       "8             20.0       -1.0               47                  30     2-4 mm   \n",
       "9             10.0       -0.5               30                  20    1-2\\nmm   \n",
       "10             0.0       -0.2               20                   9    1-2\\nmm   \n",
       "11             NaN        NaN                9                   0    1-2\\nmm   \n",
       "\n",
       "   Grain type Hardness              Notes  \n",
       "0          PP        F                NaN  \n",
       "1          RG       1F         Wind crust  \n",
       "2          RG        K              Crust  \n",
       "3          RG       1F                NaN  \n",
       "4          RG        K  way less than 1mm  \n",
       "5          RG       1F      some faceting  \n",
       "6        PPgp       1F      graupel layer  \n",
       "7          RG       1F      some faceting  \n",
       "8          FC       4F      some rounding  \n",
       "9          FC       1F      some rounding  \n",
       "10         FC       1F      some rounding  \n",
       "11         FC        K      some rounding  "
      ]
     },
     "execution_count": 4,
     "metadata": {},
     "output_type": "execute_result"
    }
   ],
   "source": [
    "# See what it looks like\n",
    "snowpit"
   ]
  },
  {
   "cell_type": "markdown",
   "metadata": {},
   "source": [
    "It might be easier to look at just the first few rows..."
   ]
  },
  {
   "cell_type": "code",
   "execution_count": 5,
   "metadata": {},
   "outputs": [
    {
     "data": {
      "text/html": [
       "<div>\n",
       "<style scoped>\n",
       "    .dataframe tbody tr th:only-of-type {\n",
       "        vertical-align: middle;\n",
       "    }\n",
       "\n",
       "    .dataframe tbody tr th {\n",
       "        vertical-align: top;\n",
       "    }\n",
       "\n",
       "    .dataframe thead th {\n",
       "        text-align: right;\n",
       "    }\n",
       "</style>\n",
       "<table border=\"1\" class=\"dataframe\">\n",
       "  <thead>\n",
       "    <tr style=\"text-align: right;\">\n",
       "      <th></th>\n",
       "      <th>density top\\n(cm)</th>\n",
       "      <th>density bottom\\n(cm)</th>\n",
       "      <th>density A kg/m3</th>\n",
       "      <th>density B kg/m3</th>\n",
       "      <th>Height in (cm)</th>\n",
       "      <th>Temp in C</th>\n",
       "      <th>grain top\\n(cm)</th>\n",
       "      <th>grain bottom\\n(cm)</th>\n",
       "      <th>Grain size</th>\n",
       "      <th>Grain type</th>\n",
       "      <th>Hardness</th>\n",
       "      <th>Notes</th>\n",
       "    </tr>\n",
       "  </thead>\n",
       "  <tbody>\n",
       "    <tr>\n",
       "      <th>0</th>\n",
       "      <td>100.0</td>\n",
       "      <td>90.0</td>\n",
       "      <td>211.0</td>\n",
       "      <td>187.0</td>\n",
       "      <td>100.0</td>\n",
       "      <td>-8.7</td>\n",
       "      <td>100</td>\n",
       "      <td>96</td>\n",
       "      <td>1-2\\nmm</td>\n",
       "      <td>PP</td>\n",
       "      <td>F</td>\n",
       "      <td>NaN</td>\n",
       "    </tr>\n",
       "    <tr>\n",
       "      <th>1</th>\n",
       "      <td>90.0</td>\n",
       "      <td>80.0</td>\n",
       "      <td>238.0</td>\n",
       "      <td>248.0</td>\n",
       "      <td>90.0</td>\n",
       "      <td>-9.8</td>\n",
       "      <td>96</td>\n",
       "      <td>94</td>\n",
       "      <td>&lt; 1\\nmm</td>\n",
       "      <td>RG</td>\n",
       "      <td>1F</td>\n",
       "      <td>Wind crust</td>\n",
       "    </tr>\n",
       "    <tr>\n",
       "      <th>2</th>\n",
       "      <td>80.0</td>\n",
       "      <td>70.0</td>\n",
       "      <td>305.0</td>\n",
       "      <td>295.0</td>\n",
       "      <td>80.0</td>\n",
       "      <td>-7.8</td>\n",
       "      <td>94</td>\n",
       "      <td>90</td>\n",
       "      <td>&lt; 1\\nmm</td>\n",
       "      <td>RG</td>\n",
       "      <td>K</td>\n",
       "      <td>Crust</td>\n",
       "    </tr>\n",
       "  </tbody>\n",
       "</table>\n",
       "</div>"
      ],
      "text/plain": [
       "   density top\\n(cm)  density bottom\\n(cm)  density A kg/m3  density B kg/m3  \\\n",
       "0              100.0                  90.0            211.0            187.0   \n",
       "1               90.0                  80.0            238.0            248.0   \n",
       "2               80.0                  70.0            305.0            295.0   \n",
       "\n",
       "   Height in (cm)  Temp in C  grain top\\n(cm)  grain bottom\\n(cm) Grain size  \\\n",
       "0           100.0       -8.7              100                  96    1-2\\nmm   \n",
       "1            90.0       -9.8               96                  94    < 1\\nmm   \n",
       "2            80.0       -7.8               94                  90    < 1\\nmm   \n",
       "\n",
       "  Grain type Hardness       Notes  \n",
       "0         PP        F         NaN  \n",
       "1         RG       1F  Wind crust  \n",
       "2         RG        K       Crust  "
      ]
     },
     "execution_count": 5,
     "metadata": {},
     "output_type": "execute_result"
    }
   ],
   "source": [
    "snowpit[:3]\n",
    "# Uncomment below to look at the last two rows instead\n",
    "# snowpit[-2:]"
   ]
  },
  {
   "cell_type": "markdown",
   "metadata": {},
   "source": [
    "You can see that the density is measured twice (A and B) every 10 cm. Temperature is measured every 10cm. The grain size is given in stratigraphic layers. The data are messy though - the '\\n' is a newline character that has been imported. \n",
    "\n",
    "## 1. Fix the headers\n",
    "\n",
    "A search for 'pandas read_csv' brings up the documentation with import options.\n",
    "\n",
    "https://pandas.pydata.org/pandas-docs/stable/reference/api/pandas.read_csv.html\n",
    "\n",
    "We could tell it to ignore the first row and not put headers (then add them later)"
   ]
  },
  {
   "cell_type": "code",
   "execution_count": 6,
   "metadata": {},
   "outputs": [
    {
     "data": {
      "text/html": [
       "<div>\n",
       "<style scoped>\n",
       "    .dataframe tbody tr th:only-of-type {\n",
       "        vertical-align: middle;\n",
       "    }\n",
       "\n",
       "    .dataframe tbody tr th {\n",
       "        vertical-align: top;\n",
       "    }\n",
       "\n",
       "    .dataframe thead th {\n",
       "        text-align: right;\n",
       "    }\n",
       "</style>\n",
       "<table border=\"1\" class=\"dataframe\">\n",
       "  <thead>\n",
       "    <tr style=\"text-align: right;\">\n",
       "      <th></th>\n",
       "      <th>0</th>\n",
       "      <th>1</th>\n",
       "      <th>2</th>\n",
       "      <th>3</th>\n",
       "      <th>4</th>\n",
       "      <th>5</th>\n",
       "      <th>6</th>\n",
       "      <th>7</th>\n",
       "      <th>8</th>\n",
       "      <th>9</th>\n",
       "      <th>10</th>\n",
       "      <th>11</th>\n",
       "    </tr>\n",
       "  </thead>\n",
       "  <tbody>\n",
       "    <tr>\n",
       "      <th>0</th>\n",
       "      <td>100.0</td>\n",
       "      <td>90.0</td>\n",
       "      <td>211.0</td>\n",
       "      <td>187.0</td>\n",
       "      <td>100.0</td>\n",
       "      <td>-8.7</td>\n",
       "      <td>100</td>\n",
       "      <td>96</td>\n",
       "      <td>1-2\\nmm</td>\n",
       "      <td>PP</td>\n",
       "      <td>F</td>\n",
       "      <td>NaN</td>\n",
       "    </tr>\n",
       "    <tr>\n",
       "      <th>1</th>\n",
       "      <td>90.0</td>\n",
       "      <td>80.0</td>\n",
       "      <td>238.0</td>\n",
       "      <td>248.0</td>\n",
       "      <td>90.0</td>\n",
       "      <td>-9.8</td>\n",
       "      <td>96</td>\n",
       "      <td>94</td>\n",
       "      <td>&lt; 1\\nmm</td>\n",
       "      <td>RG</td>\n",
       "      <td>1F</td>\n",
       "      <td>Wind crust</td>\n",
       "    </tr>\n",
       "  </tbody>\n",
       "</table>\n",
       "</div>"
      ],
      "text/plain": [
       "      0     1      2      3      4    5    6   7        8   9   10          11\n",
       "0  100.0  90.0  211.0  187.0  100.0 -8.7  100  96  1-2\\nmm  PP   F         NaN\n",
       "1   90.0  80.0  238.0  248.0   90.0 -9.8   96  94  < 1\\nmm  RG  1F  Wind crust"
      ]
     },
     "execution_count": 6,
     "metadata": {},
     "output_type": "execute_result"
    }
   ],
   "source": [
    "pd.read_csv('snowpit.csv', header=None, skiprows=1)[:2]\n",
    "\n",
    "# Uncomment below to do this and add in new headers\n",
    "#test = pd.read_csv('snowpit.csv', header=None, skiprows=1)\n",
    "#test.columns=['A', 'B', 'C', 'D', 'E', 'F', 'another col','H', 'I', 'J', '11th', 'last']\n",
    "#print (test)"
   ]
  },
  {
   "cell_type": "markdown",
   "metadata": {},
   "source": [
    "or just modify the headings we do have"
   ]
  },
  {
   "cell_type": "code",
   "execution_count": 7,
   "metadata": {},
   "outputs": [
    {
     "name": "stdout",
     "output_type": "stream",
     "text": [
      "Index(['density top\\n(cm)', 'density bottom\\n(cm)', 'density A kg/m3',\n",
      "       'density B kg/m3', 'Height in (cm)', 'Temp in C', 'grain top\\n(cm)',\n",
      "       'grain bottom\\n(cm)', 'Grain size', 'Grain type', 'Hardness', 'Notes'],\n",
      "      dtype='object')\n"
     ]
    }
   ],
   "source": [
    "print (snowpit.columns)"
   ]
  },
  {
   "cell_type": "code",
   "execution_count": 8,
   "metadata": {},
   "outputs": [
    {
     "name": "stdout",
     "output_type": "stream",
     "text": [
      "Index(['density top (cm)', 'density bottom (cm)', 'density A kg/m3',\n",
      "       'density B kg/m3', 'Height in (cm)', 'Temp in C', 'grain top\\n(cm)',\n",
      "       'grain bottom\\n(cm)', 'Grain size', 'Grain type', 'Hardness', 'Notes'],\n",
      "      dtype='object')\n"
     ]
    }
   ],
   "source": [
    "# Create a dictionary to make the change. This is essentially a lookup table\n",
    "switch_names = {'density top\\n(cm)':'density top (cm)', 'density bottom\\n(cm)':'density bottom (cm)'}\n",
    "\n",
    "# Then use the pandas rename function\n",
    "snowpit.rename(columns=switch_names, inplace = True)\n",
    "\n",
    "print (snowpit.columns)"
   ]
  },
  {
   "cell_type": "markdown",
   "metadata": {},
   "source": [
    "Can you modify this to fix the labels for grain top and bottom?\n",
    "\n",
    "## 2. Fix grain size\n",
    "\n",
    "Tricky one. It doesn't help to just remove the \\nmm because the data have been given in variable form. If they were all in the format e.g. 1-2 I'd look to use everything left of the '-' and everything to the right of it to give a mean value - in this case 1.5. As it is (some are e.g. <1) I'll just use another dictionary."
   ]
  },
  {
   "cell_type": "code",
   "execution_count": 9,
   "metadata": {},
   "outputs": [
    {
     "name": "stdout",
     "output_type": "stream",
     "text": [
      "0     1-2\\nmm\n",
      "1     < 1\\nmm\n",
      "2     < 1\\nmm\n",
      "3     < 1\\nmm\n",
      "4     < 1\\nmm\n",
      "5     < 1\\nmm\n",
      "6      2-4 mm\n",
      "7     1-2\\nmm\n",
      "8      2-4 mm\n",
      "9     1-2\\nmm\n",
      "10    1-2\\nmm\n",
      "11    1-2\\nmm\n",
      "Name: Grain size, dtype: object\n"
     ]
    }
   ],
   "source": [
    "# Here is how to access just the grain size column\n",
    "\n",
    "print (snowpit['Grain size'])"
   ]
  },
  {
   "cell_type": "code",
   "execution_count": 10,
   "metadata": {},
   "outputs": [
    {
     "data": {
      "text/plain": [
       "array(['1-2\\nmm', '< 1\\nmm', '2-4 mm'], dtype=object)"
      ]
     },
     "execution_count": 10,
     "metadata": {},
     "output_type": "execute_result"
    }
   ],
   "source": [
    "# Look at the unique values: we need each of these in the dictionary\n",
    "snowpit['Grain size'].unique()"
   ]
  },
  {
   "cell_type": "code",
   "execution_count": 11,
   "metadata": {},
   "outputs": [],
   "source": [
    "# Only three values to worry about\n",
    "grain_dict = {'1-2\\nmm': 1.5, '< 1\\nmm': 0.5, '2-4 mm': 3.0} # <- scientific choice. Is it a good one???"
   ]
  },
  {
   "cell_type": "markdown",
   "metadata": {},
   "source": [
    "Now to replace the grain sizes with their dictionary equivalent"
   ]
  },
  {
   "cell_type": "code",
   "execution_count": 12,
   "metadata": {},
   "outputs": [
    {
     "name": "stdout",
     "output_type": "stream",
     "text": [
      "    density top (cm)  density bottom (cm)  density A kg/m3  density B kg/m3  \\\n",
      "0              100.0                 90.0            211.0            187.0   \n",
      "1               90.0                 80.0            238.0            248.0   \n",
      "2               80.0                 70.0            305.0            295.0   \n",
      "3               70.0                 60.0            299.0            297.0   \n",
      "4               60.0                 50.0            301.0            312.0   \n",
      "5               50.0                 40.0            290.0            272.0   \n",
      "6               40.0                 30.0            333.0            304.0   \n",
      "7               30.0                 20.0            335.0            324.0   \n",
      "8               20.0                 10.0            302.0            285.0   \n",
      "9               10.0                  0.0              NaN              NaN   \n",
      "10               NaN                  NaN              NaN              NaN   \n",
      "11               NaN                  NaN              NaN              NaN   \n",
      "\n",
      "    Height in (cm)  Temp in C  grain top\\n(cm)  grain bottom\\n(cm)  \\\n",
      "0            100.0       -8.7              100                  96   \n",
      "1             90.0       -9.8               96                  94   \n",
      "2             80.0       -7.8               94                  90   \n",
      "3             70.0       -5.8               90                  73   \n",
      "4             60.0       -4.3               73                  65   \n",
      "5             50.0       -3.1               65                  62   \n",
      "6             40.0       -2.0               62                  61   \n",
      "7             30.0       -1.6               61                  47   \n",
      "8             20.0       -1.0               47                  30   \n",
      "9             10.0       -0.5               30                  20   \n",
      "10             0.0       -0.2               20                   9   \n",
      "11             NaN        NaN                9                   0   \n",
      "\n",
      "    Grain size Grain type Hardness              Notes  \n",
      "0          1.5         PP        F                NaN  \n",
      "1          0.5         RG       1F         Wind crust  \n",
      "2          0.5         RG        K              Crust  \n",
      "3          0.5         RG       1F                NaN  \n",
      "4          0.5         RG        K  way less than 1mm  \n",
      "5          0.5         RG       1F      some faceting  \n",
      "6          3.0       PPgp       1F      graupel layer  \n",
      "7          1.5         RG       1F      some faceting  \n",
      "8          3.0         FC       4F      some rounding  \n",
      "9          1.5         FC       1F      some rounding  \n",
      "10         1.5         FC       1F      some rounding  \n",
      "11         1.5         FC        K      some rounding  \n"
     ]
    }
   ],
   "source": [
    "# Assign to 'snowpit'\n",
    "snowpit.replace({\"Grain size\": grain_dict}, inplace=True)\n",
    "\n",
    "# Or uncomment below to assign to new dataframe\n",
    "# df1 = snowpit.replace({\"Grain size\": grain_dict})\n",
    "\n",
    "print (snowpit)"
   ]
  },
  {
   "cell_type": "markdown",
   "metadata": {},
   "source": [
    "These data are now useable. \n",
    "\n",
    "## Making a new column\n",
    "\n",
    "We're going to make a new column that calculates the mean of the two density measurements (we only need one value per layer in SMRT)"
   ]
  },
  {
   "cell_type": "code",
   "execution_count": 19,
   "metadata": {},
   "outputs": [
    {
     "name": "stdout",
     "output_type": "stream",
     "text": [
      "0     199.0\n",
      "1     243.0\n",
      "2     300.0\n",
      "3     298.0\n",
      "4     306.5\n",
      "5     281.0\n",
      "6     318.5\n",
      "7     329.5\n",
      "8     293.5\n",
      "9       NaN\n",
      "10      NaN\n",
      "11      NaN\n",
      "Name: mean_density, dtype: float64\n"
     ]
    }
   ],
   "source": [
    "snowpit['mean_density'] = snowpit.loc[:,['density A kg/m3','density B kg/m3']].mean(axis=1)\n",
    "print (snowpit['mean_density'])"
   ]
  },
  {
   "cell_type": "markdown",
   "metadata": {},
   "source": [
    "Are these values right?\n",
    "\n",
    "The 'loc' references the index (row number) - in this case ':', which means all of them. Then the code takes the mean of the two named columns. For a mathematical operation on a single column this isn't needed e.g. to convert the grain size to meters (all SMRT units are SI units), you might do\n",
    "\n",
    "```\n",
    "snowpit['Grain size'] * 1e-3\n",
    "```\n",
    "\n",
    "Can you make a new column that has temperature in degrees Kelvin?"
   ]
  },
  {
   "cell_type": "code",
   "execution_count": 20,
   "metadata": {},
   "outputs": [
    {
     "data": {
      "text/plain": [
       "0     0.0015\n",
       "1     0.0005\n",
       "2     0.0005\n",
       "3     0.0005\n",
       "4     0.0005\n",
       "5     0.0005\n",
       "6     0.0030\n",
       "7     0.0015\n",
       "8     0.0030\n",
       "9     0.0015\n",
       "10    0.0015\n",
       "11    0.0015\n",
       "Name: Grain size, dtype: float64"
      ]
     },
     "execution_count": 20,
     "metadata": {},
     "output_type": "execute_result"
    }
   ],
   "source": []
  },
  {
   "cell_type": "markdown",
   "metadata": {},
   "source": [
    "## Layer thickness\n",
    "\n",
    "There are multiple ways of defining the layers and calculating the layer thickness. If using the density you could take the height of the top of the layer minus the height of the bottom of the layer e.g.\n",
    "\n",
    "```\n",
    "snowpit['density top (cm)'] - snowpit['density bottom (cm)']\n",
    "\n",
    "```\n",
    "\n",
    "but this doesn't work for e.g. temperature where you only have the height measurements in a single column. For this, use pandas diff function e.g.\n",
    "\n",
    "```\n",
    "snowpit['Height in (cm)'].diff()\n",
    "\n",
    "```"
   ]
  },
  {
   "cell_type": "code",
   "execution_count": 23,
   "metadata": {},
   "outputs": [
    {
     "data": {
      "text/plain": [
       "0      NaN\n",
       "1    -10.0\n",
       "2    -10.0\n",
       "3    -10.0\n",
       "4    -10.0\n",
       "5    -10.0\n",
       "6    -10.0\n",
       "7    -10.0\n",
       "8    -10.0\n",
       "9    -10.0\n",
       "10   -10.0\n",
       "11     NaN\n",
       "Name: Height in (cm), dtype: float64"
      ]
     },
     "execution_count": 23,
     "metadata": {},
     "output_type": "execute_result"
    }
   ],
   "source": [
    "# Try them out"
   ]
  },
  {
   "cell_type": "markdown",
   "metadata": {},
   "source": [
    "## Consider the stratigraphy though....\n",
    "\n",
    "If you plot up the density, temperature and stratigraphy you can start to think about how to define the layers in SMRT -> we'll discuss this in the next lecture\n"
   ]
  },
  {
   "cell_type": "code",
   "execution_count": 38,
   "metadata": {},
   "outputs": [
    {
     "data": {
      "text/plain": [
       "Text(0.5, 0, 'Stratigraphy and \\nGrain size (mm)')"
      ]
     },
     "execution_count": 38,
     "metadata": {},
     "output_type": "execute_result"
    },
    {
     "data": {
      "image/png": "[encoded data removed]",
      "text/plain": [
       "<Figure size 432x288 with 3 Axes>"
      ]
     },
     "metadata": {
      "needs_background": "light"
     },
     "output_type": "display_data"
    }
   ],
   "source": [
    "import matplotlib.pyplot as plt\n",
    "import numpy as np\n",
    "\n",
    "fig, (ax1, ax2, ax3) = plt.subplots(1, 3)\n",
    "fig.suptitle('Snowpit measurements')\n",
    "\n",
    "\n",
    "ax2.plot(snowpit['Temp in C'], snowpit['Height in (cm)'], 'rx--')\n",
    "\n",
    "for i, layer in snowpit.iterrows():\n",
    "    # Plot density\n",
    "    if ~np.isnan(layer['density top (cm)']):\n",
    "        layer_thickness = layer['density top (cm)'] - layer['density bottom (cm)']\n",
    "        ax1.barh(y=layer['density bottom (cm)'] + layer_thickness / 2, width=layer['mean_density'], height=layer_thickness, alpha=0.4)\n",
    "    # Plot stratigraphy\n",
    "    if ~np.isnan(layer['grain top\\n(cm)']):\n",
    "        layer_thickness = layer['grain top\\n(cm)'] - layer['grain bottom\\n(cm)'] ### YOU MAY NEED TO FIX THESE WITH NEW COLUMN LABELS\n",
    "        width = max(snowpit['Grain size'] + 0.5)\n",
    "        ax3.barh(y=layer['grain bottom\\n(cm)'] + layer_thickness / 2, width=width, height=layer_thickness, alpha=0.4)\n",
    "#            #axes[p, 2].text(0,layer.Height_Interval_Stratigraphy_End_cm + layer_thickness / 2, layer.StratigraphyDesc )\n",
    "#            axes[p, 2].text(width,layer.Height_Interval_Stratigraphy_End_cm + layer_thickness / 2, layer.LayerType)\n",
    "        ax3.plot(layer['Grain size'],layer['grain bottom\\n(cm)'] + layer_thickness / 2, 'bo', label='gs min' )   \n",
    "\n",
    "ax1.set_xlabel('Density (kg m$^{-3}$)')\n",
    "ax2.set_xlabel('Temperature ($^o$C)')\n",
    "ax3.set_xlabel('Stratigraphy and \\nGrain size (mm)')\n",
    "\n"
   ]
  },
  {
   "cell_type": "markdown",
   "metadata": {},
   "source": [
    "**where would you put the layers?**\n",
    "\n",
    "\n",
    "## For a quick summary of data stats...\n",
    "\n",
    "If you have a lot of data, one useful pandas function is *describe*: this gives max / min / mean and other stats. If the table looks a little unwieldy you might want to put a *numpy round* function around it to limit the number of decimal places e.g. try\n",
    "\n",
    "```\n",
    "np.round(snowpit.describe(),2)\n",
    "```\n",
    "\n",
    "This is just one example of why python is so beautiful to use: you can just use one function on another (or at least it's worth trying). Another key strength is the chances are someone else will have already done something close to whatever it is you're trying to do. Efficiency comes with knowing what to search for. The search terms I used for this notebook are at the bottom."
   ]
  },
  {
   "cell_type": "code",
   "execution_count": 43,
   "metadata": {},
   "outputs": [
    {
     "data": {
      "text/html": [
       "<div>\n",
       "<style scoped>\n",
       "    .dataframe tbody tr th:only-of-type {\n",
       "        vertical-align: middle;\n",
       "    }\n",
       "\n",
       "    .dataframe tbody tr th {\n",
       "        vertical-align: top;\n",
       "    }\n",
       "\n",
       "    .dataframe thead th {\n",
       "        text-align: right;\n",
       "    }\n",
       "</style>\n",
       "<table border=\"1\" class=\"dataframe\">\n",
       "  <thead>\n",
       "    <tr style=\"text-align: right;\">\n",
       "      <th></th>\n",
       "      <th>density top (cm)</th>\n",
       "      <th>density bottom (cm)</th>\n",
       "      <th>density A kg/m3</th>\n",
       "      <th>density B kg/m3</th>\n",
       "      <th>Height in (cm)</th>\n",
       "      <th>Temp in C</th>\n",
       "      <th>grain top\\n(cm)</th>\n",
       "      <th>grain bottom\\n(cm)</th>\n",
       "      <th>Grain size</th>\n",
       "      <th>mean_density</th>\n",
       "    </tr>\n",
       "  </thead>\n",
       "  <tbody>\n",
       "    <tr>\n",
       "      <th>count</th>\n",
       "      <td>10.000000</td>\n",
       "      <td>10.000000</td>\n",
       "      <td>9.000000</td>\n",
       "      <td>9.000000</td>\n",
       "      <td>11.000000</td>\n",
       "      <td>11.000000</td>\n",
       "      <td>12.000000</td>\n",
       "      <td>12.000000</td>\n",
       "      <td>12.000000</td>\n",
       "      <td>9.000000</td>\n",
       "    </tr>\n",
       "    <tr>\n",
       "      <th>mean</th>\n",
       "      <td>55.000000</td>\n",
       "      <td>45.000000</td>\n",
       "      <td>290.444444</td>\n",
       "      <td>280.444444</td>\n",
       "      <td>50.000000</td>\n",
       "      <td>-4.072727</td>\n",
       "      <td>62.250000</td>\n",
       "      <td>53.916667</td>\n",
       "      <td>1.333333</td>\n",
       "      <td>285.444444</td>\n",
       "    </tr>\n",
       "    <tr>\n",
       "      <th>std</th>\n",
       "      <td>30.276504</td>\n",
       "      <td>30.276504</td>\n",
       "      <td>40.908774</td>\n",
       "      <td>41.548499</td>\n",
       "      <td>33.166248</td>\n",
       "      <td>3.459795</td>\n",
       "      <td>30.689427</td>\n",
       "      <td>32.997130</td>\n",
       "      <td>0.912871</td>\n",
       "      <td>40.628226</td>\n",
       "    </tr>\n",
       "    <tr>\n",
       "      <th>min</th>\n",
       "      <td>10.000000</td>\n",
       "      <td>0.000000</td>\n",
       "      <td>211.000000</td>\n",
       "      <td>187.000000</td>\n",
       "      <td>0.000000</td>\n",
       "      <td>-9.800000</td>\n",
       "      <td>9.000000</td>\n",
       "      <td>0.000000</td>\n",
       "      <td>0.500000</td>\n",
       "      <td>199.000000</td>\n",
       "    </tr>\n",
       "    <tr>\n",
       "      <th>25%</th>\n",
       "      <td>32.500000</td>\n",
       "      <td>22.500000</td>\n",
       "      <td>290.000000</td>\n",
       "      <td>272.000000</td>\n",
       "      <td>25.000000</td>\n",
       "      <td>-6.800000</td>\n",
       "      <td>42.750000</td>\n",
       "      <td>27.500000</td>\n",
       "      <td>0.500000</td>\n",
       "      <td>281.000000</td>\n",
       "    </tr>\n",
       "    <tr>\n",
       "      <th>50%</th>\n",
       "      <td>55.000000</td>\n",
       "      <td>45.000000</td>\n",
       "      <td>301.000000</td>\n",
       "      <td>295.000000</td>\n",
       "      <td>50.000000</td>\n",
       "      <td>-3.100000</td>\n",
       "      <td>63.500000</td>\n",
       "      <td>61.500000</td>\n",
       "      <td>1.500000</td>\n",
       "      <td>298.000000</td>\n",
       "    </tr>\n",
       "    <tr>\n",
       "      <th>75%</th>\n",
       "      <td>77.500000</td>\n",
       "      <td>67.500000</td>\n",
       "      <td>305.000000</td>\n",
       "      <td>304.000000</td>\n",
       "      <td>75.000000</td>\n",
       "      <td>-1.300000</td>\n",
       "      <td>91.000000</td>\n",
       "      <td>77.250000</td>\n",
       "      <td>1.500000</td>\n",
       "      <td>306.500000</td>\n",
       "    </tr>\n",
       "    <tr>\n",
       "      <th>max</th>\n",
       "      <td>100.000000</td>\n",
       "      <td>90.000000</td>\n",
       "      <td>335.000000</td>\n",
       "      <td>324.000000</td>\n",
       "      <td>100.000000</td>\n",
       "      <td>-0.200000</td>\n",
       "      <td>100.000000</td>\n",
       "      <td>96.000000</td>\n",
       "      <td>3.000000</td>\n",
       "      <td>329.500000</td>\n",
       "    </tr>\n",
       "  </tbody>\n",
       "</table>\n",
       "</div>"
      ],
      "text/plain": [
       "       density top (cm)  density bottom (cm)  density A kg/m3  \\\n",
       "count         10.000000            10.000000         9.000000   \n",
       "mean          55.000000            45.000000       290.444444   \n",
       "std           30.276504            30.276504        40.908774   \n",
       "min           10.000000             0.000000       211.000000   \n",
       "25%           32.500000            22.500000       290.000000   \n",
       "50%           55.000000            45.000000       301.000000   \n",
       "75%           77.500000            67.500000       305.000000   \n",
       "max          100.000000            90.000000       335.000000   \n",
       "\n",
       "       density B kg/m3  Height in (cm)  Temp in C  grain top\\n(cm)  \\\n",
       "count         9.000000       11.000000  11.000000        12.000000   \n",
       "mean        280.444444       50.000000  -4.072727        62.250000   \n",
       "std          41.548499       33.166248   3.459795        30.689427   \n",
       "min         187.000000        0.000000  -9.800000         9.000000   \n",
       "25%         272.000000       25.000000  -6.800000        42.750000   \n",
       "50%         295.000000       50.000000  -3.100000        63.500000   \n",
       "75%         304.000000       75.000000  -1.300000        91.000000   \n",
       "max         324.000000      100.000000  -0.200000       100.000000   \n",
       "\n",
       "       grain bottom\\n(cm)  Grain size  mean_density  \n",
       "count           12.000000   12.000000      9.000000  \n",
       "mean            53.916667    1.333333    285.444444  \n",
       "std             32.997130    0.912871     40.628226  \n",
       "min              0.000000    0.500000    199.000000  \n",
       "25%             27.500000    0.500000    281.000000  \n",
       "50%             61.500000    1.500000    298.000000  \n",
       "75%             77.250000    1.500000    306.500000  \n",
       "max             96.000000    3.000000    329.500000  "
      ]
     },
     "execution_count": 43,
     "metadata": {},
     "output_type": "execute_result"
    }
   ],
   "source": [
    "snowpit.describe()\n"
   ]
  },
  {
   "cell_type": "markdown",
   "metadata": {},
   "source": [
    "\n",
    "## Google searches whilst making this notebook\n",
    "\n",
    "1. pandas read_csv\n",
    "1. pandas modify headings\n",
    "1. pandas rename columns\n",
    "1. pandas replace column data by dictionary\n",
    "1. markdown list\n",
    "1. pandas mean of two columns  <- this one took a while to get the right answer\n",
    "1. pandas difference within column\n",
    "1. matplotlib subplots example (every time!)\n",
    "\n",
    "plus adapting snowpit plots from another notebook..."
   ]
  },
  {
   "cell_type": "code",
   "execution_count": null,
   "metadata": {},
   "outputs": [],
   "source": []
  }
 ],
 "metadata": {
  "kernelspec": {
   "display_name": "Python 3",
   "language": "python",
   "name": "python3"
  },
  "language_info": {
   "codemirror_mode": {
    "name": "ipython",
    "version": 3
   },
   "file_extension": ".py",
   "mimetype": "text/x-python",
   "name": "python",
   "nbconvert_exporter": "python",
   "pygments_lexer": "ipython3",
   "version": "3.8.5"
  }
 },
 "nbformat": 4,
 "nbformat_minor": 4
}
